{
 "cells": [
  {
   "cell_type": "markdown",
   "metadata": {},
   "source": [
    "# Data Collection"
   ]
  },
  {
   "cell_type": "code",
   "execution_count": 1,
   "metadata": {},
   "outputs": [
    {
     "name": "stdout",
     "output_type": "stream",
     "text": [
      "Data retrieved successfully.\n"
     ]
    }
   ],
   "source": [
    "# Retreive the Victim Dataset from Toronto Open Data API\n",
    "\n",
    "import requests\n",
    "\n",
    "base_url = \"https://ckan0.cf.opendata.inter.prod-toronto.ca\"\n",
    "\n",
    "# Datasets are called \"packages\". Each package can contain many \"resources\"\n",
    "url = base_url + \"/api/3/action/package_show\"\n",
    "params = { \"id\": \"police-annual-statistical-report-victims-of-crime\"}\n",
    "package = requests.get(url, params = params).json()\n",
    "\n",
    "\n",
    "# To get resource data:\n",
    "for idx, resource in enumerate(package[\"result\"][\"resources\"]):\n",
    "\n",
    "    # For datastore_active resources:\n",
    "    if resource[\"datastore_active\"]:\n",
    "\n",
    "        # To get all records in CSV format:\n",
    "        url = base_url + \"/datastore/dump/\" + resource[\"id\"]\n",
    "        try:\n",
    "            resource_dump_data = requests.get(url).text\n",
    "            # Success message\n",
    "            print(\"Data retrieved successfully.\")\n",
    "        except requests.exceptions.RequestException as e:\n",
    "            # Error message\n",
    "            print(f\"Error retrieving data: {e}\")        "
   ]
  },
  {
   "cell_type": "code",
   "execution_count": 2,
   "metadata": {},
   "outputs": [
    {
     "data": {
      "text/html": [
       "<div>\n",
       "<style scoped>\n",
       "    .dataframe tbody tr th:only-of-type {\n",
       "        vertical-align: middle;\n",
       "    }\n",
       "\n",
       "    .dataframe tbody tr th {\n",
       "        vertical-align: top;\n",
       "    }\n",
       "\n",
       "    .dataframe thead th {\n",
       "        text-align: right;\n",
       "    }\n",
       "</style>\n",
       "<table border=\"1\" class=\"dataframe\">\n",
       "  <thead>\n",
       "    <tr style=\"text-align: right;\">\n",
       "      <th></th>\n",
       "      <th>_id</th>\n",
       "      <th>REPORT_YEAR</th>\n",
       "      <th>CATEGORY</th>\n",
       "      <th>SUBTYPE</th>\n",
       "      <th>ASSAULT_SUBTYPE</th>\n",
       "      <th>SEX</th>\n",
       "      <th>AGE_GROUP</th>\n",
       "      <th>AGE_COHORT</th>\n",
       "      <th>COUNT_</th>\n",
       "    </tr>\n",
       "  </thead>\n",
       "  <tbody>\n",
       "    <tr>\n",
       "      <th>0</th>\n",
       "      <td>1</td>\n",
       "      <td>2014</td>\n",
       "      <td>Crimes Against the Person</td>\n",
       "      <td>Sexual Violation</td>\n",
       "      <td>NaN</td>\n",
       "      <td>M</td>\n",
       "      <td>Adult</td>\n",
       "      <td>18 to 24</td>\n",
       "      <td>23</td>\n",
       "    </tr>\n",
       "    <tr>\n",
       "      <th>1</th>\n",
       "      <td>2</td>\n",
       "      <td>2014</td>\n",
       "      <td>Crimes Against the Person</td>\n",
       "      <td>Sexual Violation</td>\n",
       "      <td>NaN</td>\n",
       "      <td>M</td>\n",
       "      <td>Adult</td>\n",
       "      <td>25 to 34</td>\n",
       "      <td>29</td>\n",
       "    </tr>\n",
       "    <tr>\n",
       "      <th>2</th>\n",
       "      <td>3</td>\n",
       "      <td>2014</td>\n",
       "      <td>Crimes Against the Person</td>\n",
       "      <td>Sexual Violation</td>\n",
       "      <td>NaN</td>\n",
       "      <td>M</td>\n",
       "      <td>Adult</td>\n",
       "      <td>35 to 44</td>\n",
       "      <td>9</td>\n",
       "    </tr>\n",
       "    <tr>\n",
       "      <th>3</th>\n",
       "      <td>4</td>\n",
       "      <td>2014</td>\n",
       "      <td>Crimes Against the Person</td>\n",
       "      <td>Sexual Violation</td>\n",
       "      <td>NaN</td>\n",
       "      <td>M</td>\n",
       "      <td>Adult</td>\n",
       "      <td>45 to 54</td>\n",
       "      <td>13</td>\n",
       "    </tr>\n",
       "    <tr>\n",
       "      <th>4</th>\n",
       "      <td>5</td>\n",
       "      <td>2014</td>\n",
       "      <td>Crimes Against the Person</td>\n",
       "      <td>Sexual Violation</td>\n",
       "      <td>NaN</td>\n",
       "      <td>M</td>\n",
       "      <td>Adult</td>\n",
       "      <td>55 to 64</td>\n",
       "      <td>7</td>\n",
       "    </tr>\n",
       "  </tbody>\n",
       "</table>\n",
       "</div>"
      ],
      "text/plain": [
       "   _id  REPORT_YEAR                   CATEGORY           SUBTYPE  \\\n",
       "0    1         2014  Crimes Against the Person  Sexual Violation   \n",
       "1    2         2014  Crimes Against the Person  Sexual Violation   \n",
       "2    3         2014  Crimes Against the Person  Sexual Violation   \n",
       "3    4         2014  Crimes Against the Person  Sexual Violation   \n",
       "4    5         2014  Crimes Against the Person  Sexual Violation   \n",
       "\n",
       "  ASSAULT_SUBTYPE SEX AGE_GROUP AGE_COHORT  COUNT_  \n",
       "0             NaN   M     Adult   18 to 24      23  \n",
       "1             NaN   M     Adult   25 to 34      29  \n",
       "2             NaN   M     Adult   35 to 44       9  \n",
       "3             NaN   M     Adult   45 to 54      13  \n",
       "4             NaN   M     Adult   55 to 64       7  "
      ]
     },
     "execution_count": 2,
     "metadata": {},
     "output_type": "execute_result"
    }
   ],
   "source": [
    "# Create pandas Dataframe\n",
    "\n",
    "import pandas as pd\n",
    "from io import StringIO\n",
    "\n",
    "# read csv file into pandas dataframe\n",
    "csv_file = StringIO(resource_dump_data)\n",
    "data = pd.read_csv(csv_file)\n",
    "\n",
    "# Print the DataFrame\n",
    "data.head()"
   ]
  },
  {
   "cell_type": "markdown",
   "metadata": {},
   "source": [
    "# Exploratory data analysis (EDA)"
   ]
  },
  {
   "cell_type": "code",
   "execution_count": 3,
   "metadata": {},
   "outputs": [
    {
     "name": "stdout",
     "output_type": "stream",
     "text": [
      "<class 'pandas.core.frame.DataFrame'>\n",
      "RangeIndex: 1110 entries, 0 to 1109\n",
      "Data columns (total 9 columns):\n",
      " #   Column           Non-Null Count  Dtype \n",
      "---  ------           --------------  ----- \n",
      " 0   _id              1110 non-null   int64 \n",
      " 1   REPORT_YEAR      1110 non-null   int64 \n",
      " 2   CATEGORY         1110 non-null   object\n",
      " 3   SUBTYPE          1110 non-null   object\n",
      " 4   ASSAULT_SUBTYPE  549 non-null    object\n",
      " 5   SEX              1110 non-null   object\n",
      " 6   AGE_GROUP        1110 non-null   object\n",
      " 7   AGE_COHORT       1110 non-null   object\n",
      " 8   COUNT_           1110 non-null   int64 \n",
      "dtypes: int64(3), object(6)\n",
      "memory usage: 78.2+ KB\n"
     ]
    }
   ],
   "source": [
    "# Retrieve list of columns, their data types, and information about missing values.\n",
    "data.info(verbose=True)"
   ]
  },
  {
   "cell_type": "code",
   "execution_count": 4,
   "metadata": {},
   "outputs": [
    {
     "data": {
      "text/html": [
       "<div>\n",
       "<style scoped>\n",
       "    .dataframe tbody tr th:only-of-type {\n",
       "        vertical-align: middle;\n",
       "    }\n",
       "\n",
       "    .dataframe tbody tr th {\n",
       "        vertical-align: top;\n",
       "    }\n",
       "\n",
       "    .dataframe thead th {\n",
       "        text-align: right;\n",
       "    }\n",
       "</style>\n",
       "<table border=\"1\" class=\"dataframe\">\n",
       "  <thead>\n",
       "    <tr style=\"text-align: right;\">\n",
       "      <th></th>\n",
       "      <th>_id</th>\n",
       "      <th>REPORT_YEAR</th>\n",
       "      <th>COUNT_</th>\n",
       "    </tr>\n",
       "  </thead>\n",
       "  <tbody>\n",
       "    <tr>\n",
       "      <th>count</th>\n",
       "      <td>1110.000000</td>\n",
       "      <td>1110.000000</td>\n",
       "      <td>1110.000000</td>\n",
       "    </tr>\n",
       "    <tr>\n",
       "      <th>mean</th>\n",
       "      <td>555.500000</td>\n",
       "      <td>2018.133333</td>\n",
       "      <td>218.891892</td>\n",
       "    </tr>\n",
       "    <tr>\n",
       "      <th>std</th>\n",
       "      <td>320.573704</td>\n",
       "      <td>2.554768</td>\n",
       "      <td>392.855422</td>\n",
       "    </tr>\n",
       "    <tr>\n",
       "      <th>min</th>\n",
       "      <td>1.000000</td>\n",
       "      <td>2014.000000</td>\n",
       "      <td>1.000000</td>\n",
       "    </tr>\n",
       "    <tr>\n",
       "      <th>25%</th>\n",
       "      <td>278.250000</td>\n",
       "      <td>2016.000000</td>\n",
       "      <td>5.250000</td>\n",
       "    </tr>\n",
       "    <tr>\n",
       "      <th>50%</th>\n",
       "      <td>555.500000</td>\n",
       "      <td>2018.000000</td>\n",
       "      <td>57.000000</td>\n",
       "    </tr>\n",
       "    <tr>\n",
       "      <th>75%</th>\n",
       "      <td>832.750000</td>\n",
       "      <td>2020.000000</td>\n",
       "      <td>247.000000</td>\n",
       "    </tr>\n",
       "    <tr>\n",
       "      <th>max</th>\n",
       "      <td>1110.000000</td>\n",
       "      <td>2022.000000</td>\n",
       "      <td>2528.000000</td>\n",
       "    </tr>\n",
       "  </tbody>\n",
       "</table>\n",
       "</div>"
      ],
      "text/plain": [
       "               _id  REPORT_YEAR       COUNT_\n",
       "count  1110.000000  1110.000000  1110.000000\n",
       "mean    555.500000  2018.133333   218.891892\n",
       "std     320.573704     2.554768   392.855422\n",
       "min       1.000000  2014.000000     1.000000\n",
       "25%     278.250000  2016.000000     5.250000\n",
       "50%     555.500000  2018.000000    57.000000\n",
       "75%     832.750000  2020.000000   247.000000\n",
       "max    1110.000000  2022.000000  2528.000000"
      ]
     },
     "execution_count": 4,
     "metadata": {},
     "output_type": "execute_result"
    }
   ],
   "source": [
    "# Summary of statistics for the DataFrame columns.\n",
    "data.describe()"
   ]
  },
  {
   "cell_type": "code",
   "execution_count": 5,
   "metadata": {},
   "outputs": [
    {
     "name": "stdout",
     "output_type": "stream",
     "text": [
      "the dimension: (1110, 9)\n"
     ]
    }
   ],
   "source": [
    "# Print the number of rows and columns\n",
    "print(\"the dimension:\", data.shape)"
   ]
  },
  {
   "cell_type": "code",
   "execution_count": 6,
   "metadata": {},
   "outputs": [
    {
     "data": {
      "text/plain": [
       "_id                                        1\n",
       "REPORT_YEAR                             2014\n",
       "CATEGORY           Crimes Against the Person\n",
       "SUBTYPE                     Sexual Violation\n",
       "ASSAULT_SUBTYPE                          NaN\n",
       "SEX                                        M\n",
       "AGE_GROUP                              Adult\n",
       "AGE_COHORT                          18 to 24\n",
       "COUNT_                                    23\n",
       "Name: 0, dtype: object"
      ]
     },
     "execution_count": 6,
     "metadata": {},
     "output_type": "execute_result"
    }
   ],
   "source": [
    "# Selects the values of the first row of DataFrame\n",
    "data_values = data.iloc[0]\n",
    "data_values"
   ]
  },
  {
   "cell_type": "code",
   "execution_count": 7,
   "metadata": {},
   "outputs": [
    {
     "name": "stdout",
     "output_type": "stream",
     "text": [
      "Unique count of column 'CATEGORY': 1\n",
      "Unique count of column 'SUBTYPE': 4\n",
      "Unique count of column 'ASSAULT_SUBTYPE': 5\n",
      "Unique count of column 'SEX': 3\n",
      "Unique count of column 'AGE_GROUP': 4\n",
      "Unique count of column 'AGE_COHORT': 9\n"
     ]
    }
   ],
   "source": [
    "# Print unique values for categorical values\n",
    "categorical_cols = data.select_dtypes(include=['object']).columns\n",
    "for col in categorical_cols:\n",
    "    unique_count = data[col].nunique()\n",
    "    print(\"Unique count of column '{}': {}\".format(col, unique_count))"
   ]
  },
  {
   "cell_type": "markdown",
   "metadata": {},
   "source": [
    "###### We can observe that this dataset is aggregated; thus, minor adjustments will be necessary."
   ]
  },
  {
   "cell_type": "code",
   "execution_count": 8,
   "metadata": {},
   "outputs": [
    {
     "data": {
      "text/plain": [
       "REPORT_YEAR\n",
       "2014    109\n",
       "2015    113\n",
       "2016    124\n",
       "2017    122\n",
       "2018    124\n",
       "2019    131\n",
       "2020    129\n",
       "2021    128\n",
       "2022    130\n",
       "Name: count, dtype: int64"
      ]
     },
     "execution_count": 8,
     "metadata": {},
     "output_type": "execute_result"
    }
   ],
   "source": [
    "# Show unique values of the 'REPORT_YEAR' column\n",
    "data['REPORT_YEAR'].value_counts().sort_index()"
   ]
  },
  {
   "cell_type": "markdown",
   "metadata": {},
   "source": [
    "# Data Cleaning and Transformation"
   ]
  },
  {
   "cell_type": "code",
   "execution_count": 9,
   "metadata": {},
   "outputs": [
    {
     "data": {
      "text/html": [
       "<div>\n",
       "<style scoped>\n",
       "    .dataframe tbody tr th:only-of-type {\n",
       "        vertical-align: middle;\n",
       "    }\n",
       "\n",
       "    .dataframe tbody tr th {\n",
       "        vertical-align: top;\n",
       "    }\n",
       "\n",
       "    .dataframe thead th {\n",
       "        text-align: right;\n",
       "    }\n",
       "</style>\n",
       "<table border=\"1\" class=\"dataframe\">\n",
       "  <thead>\n",
       "    <tr style=\"text-align: right;\">\n",
       "      <th></th>\n",
       "      <th>Null Count</th>\n",
       "      <th>Null Percentage</th>\n",
       "    </tr>\n",
       "  </thead>\n",
       "  <tbody>\n",
       "    <tr>\n",
       "      <th>_id</th>\n",
       "      <td>0</td>\n",
       "      <td>0.000000</td>\n",
       "    </tr>\n",
       "    <tr>\n",
       "      <th>REPORT_YEAR</th>\n",
       "      <td>0</td>\n",
       "      <td>0.000000</td>\n",
       "    </tr>\n",
       "    <tr>\n",
       "      <th>CATEGORY</th>\n",
       "      <td>0</td>\n",
       "      <td>0.000000</td>\n",
       "    </tr>\n",
       "    <tr>\n",
       "      <th>SUBTYPE</th>\n",
       "      <td>0</td>\n",
       "      <td>0.000000</td>\n",
       "    </tr>\n",
       "    <tr>\n",
       "      <th>ASSAULT_SUBTYPE</th>\n",
       "      <td>561</td>\n",
       "      <td>50.540541</td>\n",
       "    </tr>\n",
       "    <tr>\n",
       "      <th>SEX</th>\n",
       "      <td>0</td>\n",
       "      <td>0.000000</td>\n",
       "    </tr>\n",
       "    <tr>\n",
       "      <th>AGE_GROUP</th>\n",
       "      <td>0</td>\n",
       "      <td>0.000000</td>\n",
       "    </tr>\n",
       "    <tr>\n",
       "      <th>AGE_COHORT</th>\n",
       "      <td>0</td>\n",
       "      <td>0.000000</td>\n",
       "    </tr>\n",
       "    <tr>\n",
       "      <th>COUNT_</th>\n",
       "      <td>0</td>\n",
       "      <td>0.000000</td>\n",
       "    </tr>\n",
       "  </tbody>\n",
       "</table>\n",
       "</div>"
      ],
      "text/plain": [
       "                 Null Count  Null Percentage\n",
       "_id                       0         0.000000\n",
       "REPORT_YEAR               0         0.000000\n",
       "CATEGORY                  0         0.000000\n",
       "SUBTYPE                   0         0.000000\n",
       "ASSAULT_SUBTYPE         561        50.540541\n",
       "SEX                       0         0.000000\n",
       "AGE_GROUP                 0         0.000000\n",
       "AGE_COHORT                0         0.000000\n",
       "COUNT_                    0         0.000000"
      ]
     },
     "execution_count": 9,
     "metadata": {},
     "output_type": "execute_result"
    }
   ],
   "source": [
    "# Get count and percentage of Null Values\n",
    "\n",
    "data1 = data.copy()\n",
    "\n",
    "data_null_count = data1.isnull().sum()\n",
    "data_null_percentage = (data1.isnull().sum() / data1.shape[0]) * 100\n",
    "null_values = pd.DataFrame({\n",
    "    'Null Count': data_null_count,\n",
    "    'Null Percentage': data_null_percentage\n",
    "})\n",
    "null_values"
   ]
  },
  {
   "cell_type": "code",
   "execution_count": 14,
   "metadata": {},
   "outputs": [
    {
     "data": {
      "text/html": [
       "<div>\n",
       "<style scoped>\n",
       "    .dataframe tbody tr th:only-of-type {\n",
       "        vertical-align: middle;\n",
       "    }\n",
       "\n",
       "    .dataframe tbody tr th {\n",
       "        vertical-align: top;\n",
       "    }\n",
       "\n",
       "    .dataframe thead th {\n",
       "        text-align: right;\n",
       "    }\n",
       "</style>\n",
       "<table border=\"1\" class=\"dataframe\">\n",
       "  <thead>\n",
       "    <tr style=\"text-align: right;\">\n",
       "      <th></th>\n",
       "      <th>SUBTYPE</th>\n",
       "      <th>count_assault</th>\n",
       "    </tr>\n",
       "  </thead>\n",
       "  <tbody>\n",
       "    <tr>\n",
       "      <th>0</th>\n",
       "      <td>Assault</td>\n",
       "      <td>549</td>\n",
       "    </tr>\n",
       "    <tr>\n",
       "      <th>1</th>\n",
       "      <td>Other</td>\n",
       "      <td>0</td>\n",
       "    </tr>\n",
       "    <tr>\n",
       "      <th>2</th>\n",
       "      <td>Robbery</td>\n",
       "      <td>0</td>\n",
       "    </tr>\n",
       "    <tr>\n",
       "      <th>3</th>\n",
       "      <td>Sexual Violation</td>\n",
       "      <td>0</td>\n",
       "    </tr>\n",
       "  </tbody>\n",
       "</table>\n",
       "</div>"
      ],
      "text/plain": [
       "            SUBTYPE  count_assault\n",
       "0           Assault            549\n",
       "1             Other              0\n",
       "2           Robbery              0\n",
       "3  Sexual Violation              0"
      ]
     },
     "execution_count": 14,
     "metadata": {},
     "output_type": "execute_result"
    }
   ],
   "source": [
    "# Identify potential cause of null values in 'ASSAULT_SUBTYPE' column.\n",
    "\n",
    "grouped_counts = data1.groupby('SUBTYPE')['ASSAULT_SUBTYPE'].agg(count_assault='count').reset_index()\n",
    "\n",
    "grouped_counts\n"
   ]
  },
  {
   "cell_type": "markdown",
   "metadata": {},
   "source": [
    "###### We chose to Keep the null values in the dataset, as they exclusively represent subtypes other than 'Assault' in the 'ASSAULT_SUBTYPE' column."
   ]
  },
  {
   "cell_type": "code",
   "execution_count": 15,
   "metadata": {},
   "outputs": [],
   "source": [
    "# Save the DataFrame to an Excel file for use in Power BI for visualization\n",
    "data1.to_excel('../Data/TOR_victims.xlsx', index=False) "
   ]
  }
 ],
 "metadata": {
  "kernelspec": {
   "display_name": "Python 3",
   "language": "python",
   "name": "python3"
  },
  "language_info": {
   "codemirror_mode": {
    "name": "ipython",
    "version": 3
   },
   "file_extension": ".py",
   "mimetype": "text/x-python",
   "name": "python",
   "nbconvert_exporter": "python",
   "pygments_lexer": "ipython3",
   "version": "3.11.9"
  }
 },
 "nbformat": 4,
 "nbformat_minor": 2
}
