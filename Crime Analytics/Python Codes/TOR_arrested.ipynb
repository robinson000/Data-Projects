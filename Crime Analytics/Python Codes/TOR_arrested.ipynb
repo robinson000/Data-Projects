{
 "cells": [
  {
   "cell_type": "markdown",
   "metadata": {},
   "source": [
    "# Data Collection"
   ]
  },
  {
   "cell_type": "code",
   "execution_count": 1,
   "metadata": {},
   "outputs": [
    {
     "name": "stdout",
     "output_type": "stream",
     "text": [
      "Data retrieved successfully.\n"
     ]
    }
   ],
   "source": [
    "# Retreive the Arrested Dataset from Toronto Open Data API\n",
    "\n",
    "import requests\n",
    "\n",
    "base_url = \"https://ckan0.cf.opendata.inter.prod-toronto.ca\"\n",
    "\n",
    "# Datasets are called \"packages\". Each package can contain many \"resources\"\n",
    "url = base_url + \"/api/3/action/package_show\"\n",
    "params = { \"id\": \"police-annual-statistical-report-arrested-and-charged-persons\"}\n",
    "package = requests.get(url, params = params).json()\n",
    "\n",
    "\n",
    "# To get resource data:\n",
    "for idx, resource in enumerate(package[\"result\"][\"resources\"]):\n",
    "\n",
    "    # For datastore_active resources:\n",
    "    if resource[\"datastore_active\"]:\n",
    "\n",
    "        # To get all records in CSV format:\n",
    "        url = base_url + \"/datastore/dump/\" + resource[\"id\"]\n",
    "        try:\n",
    "            resource_dump_data = requests.get(url).text\n",
    "            # Success message\n",
    "            print(\"Data retrieved successfully.\")\n",
    "        except requests.exceptions.RequestException as e:\n",
    "            # Error message\n",
    "            print(f\"Error retrieving data: {e}\")        "
   ]
  },
  {
   "cell_type": "code",
   "execution_count": 2,
   "metadata": {},
   "outputs": [
    {
     "data": {
      "text/html": [
       "<div>\n",
       "<style scoped>\n",
       "    .dataframe tbody tr th:only-of-type {\n",
       "        vertical-align: middle;\n",
       "    }\n",
       "\n",
       "    .dataframe tbody tr th {\n",
       "        vertical-align: top;\n",
       "    }\n",
       "\n",
       "    .dataframe thead th {\n",
       "        text-align: right;\n",
       "    }\n",
       "</style>\n",
       "<table border=\"1\" class=\"dataframe\">\n",
       "  <thead>\n",
       "    <tr style=\"text-align: right;\">\n",
       "      <th></th>\n",
       "      <th>_id</th>\n",
       "      <th>ARREST_YEAR</th>\n",
       "      <th>DIVISION</th>\n",
       "      <th>HOOD_158</th>\n",
       "      <th>NEIGHBOURHOOD_158</th>\n",
       "      <th>SEX</th>\n",
       "      <th>AGE_COHORT</th>\n",
       "      <th>AGE_GROUP</th>\n",
       "      <th>CATEGORY</th>\n",
       "      <th>SUBTYPE</th>\n",
       "      <th>ARREST_COUNT</th>\n",
       "    </tr>\n",
       "  </thead>\n",
       "  <tbody>\n",
       "    <tr>\n",
       "      <th>0</th>\n",
       "      <td>1</td>\n",
       "      <td>2019</td>\n",
       "      <td>D14</td>\n",
       "      <td>83</td>\n",
       "      <td>Dufferin Grove (83)</td>\n",
       "      <td>Female</td>\n",
       "      <td>25 to 34</td>\n",
       "      <td>Adult</td>\n",
       "      <td>Other Criminal Code Violations</td>\n",
       "      <td>Other</td>\n",
       "      <td>1</td>\n",
       "    </tr>\n",
       "    <tr>\n",
       "      <th>1</th>\n",
       "      <td>2</td>\n",
       "      <td>2022</td>\n",
       "      <td>D12</td>\n",
       "      <td>30</td>\n",
       "      <td>Brookhaven-Amesbury (30)</td>\n",
       "      <td>Male</td>\n",
       "      <td>&lt;18</td>\n",
       "      <td>Youth</td>\n",
       "      <td>Crimes Against the Person</td>\n",
       "      <td>Assaults</td>\n",
       "      <td>2</td>\n",
       "    </tr>\n",
       "    <tr>\n",
       "      <th>2</th>\n",
       "      <td>3</td>\n",
       "      <td>2018</td>\n",
       "      <td>D14</td>\n",
       "      <td>165</td>\n",
       "      <td>Harbourfront-CityPlace (165)</td>\n",
       "      <td>Male</td>\n",
       "      <td>18 to 24</td>\n",
       "      <td>Adult</td>\n",
       "      <td>Other Criminal Code Violations</td>\n",
       "      <td>Other</td>\n",
       "      <td>1</td>\n",
       "    </tr>\n",
       "    <tr>\n",
       "      <th>3</th>\n",
       "      <td>4</td>\n",
       "      <td>2015</td>\n",
       "      <td>D22</td>\n",
       "      <td>18</td>\n",
       "      <td>New Toronto (18)</td>\n",
       "      <td>Male</td>\n",
       "      <td>25 to 34</td>\n",
       "      <td>Adult</td>\n",
       "      <td>Controlled Drugs and Substances Act</td>\n",
       "      <td>Other</td>\n",
       "      <td>3</td>\n",
       "    </tr>\n",
       "    <tr>\n",
       "      <th>4</th>\n",
       "      <td>5</td>\n",
       "      <td>2014</td>\n",
       "      <td>D52</td>\n",
       "      <td>78</td>\n",
       "      <td>Kensington-Chinatown (78)</td>\n",
       "      <td>Male</td>\n",
       "      <td>25 to 34</td>\n",
       "      <td>Adult</td>\n",
       "      <td>Other Criminal Code Violations</td>\n",
       "      <td>Other</td>\n",
       "      <td>46</td>\n",
       "    </tr>\n",
       "  </tbody>\n",
       "</table>\n",
       "</div>"
      ],
      "text/plain": [
       "   _id  ARREST_YEAR DIVISION HOOD_158             NEIGHBOURHOOD_158     SEX  \\\n",
       "0    1         2019      D14       83           Dufferin Grove (83)  Female   \n",
       "1    2         2022      D12       30      Brookhaven-Amesbury (30)    Male   \n",
       "2    3         2018      D14      165  Harbourfront-CityPlace (165)    Male   \n",
       "3    4         2015      D22       18              New Toronto (18)    Male   \n",
       "4    5         2014      D52       78     Kensington-Chinatown (78)    Male   \n",
       "\n",
       "  AGE_COHORT AGE_GROUP                             CATEGORY   SUBTYPE  \\\n",
       "0   25 to 34     Adult       Other Criminal Code Violations     Other   \n",
       "1        <18     Youth            Crimes Against the Person  Assaults   \n",
       "2   18 to 24     Adult       Other Criminal Code Violations     Other   \n",
       "3   25 to 34     Adult  Controlled Drugs and Substances Act     Other   \n",
       "4   25 to 34     Adult       Other Criminal Code Violations     Other   \n",
       "\n",
       "   ARREST_COUNT  \n",
       "0             1  \n",
       "1             2  \n",
       "2             1  \n",
       "3             3  \n",
       "4            46  "
      ]
     },
     "execution_count": 2,
     "metadata": {},
     "output_type": "execute_result"
    }
   ],
   "source": [
    "# Create pandas Dataframe\n",
    "\n",
    "import pandas as pd\n",
    "from io import StringIO\n",
    "\n",
    "# read csv file into pandas dataframe\n",
    "csv_file = StringIO(resource_dump_data)\n",
    "data = pd.read_csv(csv_file)\n",
    "\n",
    "# Print the DataFrame\n",
    "data.head()"
   ]
  },
  {
   "cell_type": "markdown",
   "metadata": {},
   "source": [
    "# Exploratory data analysis (EDA)"
   ]
  },
  {
   "cell_type": "code",
   "execution_count": 3,
   "metadata": {},
   "outputs": [
    {
     "name": "stdout",
     "output_type": "stream",
     "text": [
      "<class 'pandas.core.frame.DataFrame'>\n",
      "RangeIndex: 129374 entries, 0 to 129373\n",
      "Data columns (total 11 columns):\n",
      " #   Column             Non-Null Count   Dtype \n",
      "---  ------             --------------   ----- \n",
      " 0   _id                129374 non-null  int64 \n",
      " 1   ARREST_YEAR        129374 non-null  int64 \n",
      " 2   DIVISION           129374 non-null  object\n",
      " 3   HOOD_158           129374 non-null  object\n",
      " 4   NEIGHBOURHOOD_158  129374 non-null  object\n",
      " 5   SEX                129374 non-null  object\n",
      " 6   AGE_COHORT         129374 non-null  object\n",
      " 7   AGE_GROUP          129374 non-null  object\n",
      " 8   CATEGORY           129374 non-null  object\n",
      " 9   SUBTYPE            129374 non-null  object\n",
      " 10  ARREST_COUNT       129374 non-null  int64 \n",
      "dtypes: int64(3), object(8)\n",
      "memory usage: 10.9+ MB\n"
     ]
    }
   ],
   "source": [
    "# Retrieve list of columns, their data types, and information about missing values.\n",
    "data.info(verbose=True)"
   ]
  },
  {
   "cell_type": "code",
   "execution_count": 4,
   "metadata": {},
   "outputs": [
    {
     "data": {
      "text/html": [
       "<div>\n",
       "<style scoped>\n",
       "    .dataframe tbody tr th:only-of-type {\n",
       "        vertical-align: middle;\n",
       "    }\n",
       "\n",
       "    .dataframe tbody tr th {\n",
       "        vertical-align: top;\n",
       "    }\n",
       "\n",
       "    .dataframe thead th {\n",
       "        text-align: right;\n",
       "    }\n",
       "</style>\n",
       "<table border=\"1\" class=\"dataframe\">\n",
       "  <thead>\n",
       "    <tr style=\"text-align: right;\">\n",
       "      <th></th>\n",
       "      <th>_id</th>\n",
       "      <th>ARREST_YEAR</th>\n",
       "      <th>ARREST_COUNT</th>\n",
       "    </tr>\n",
       "  </thead>\n",
       "  <tbody>\n",
       "    <tr>\n",
       "      <th>count</th>\n",
       "      <td>129374.0000</td>\n",
       "      <td>129374.000000</td>\n",
       "      <td>129374.000000</td>\n",
       "    </tr>\n",
       "    <tr>\n",
       "      <th>mean</th>\n",
       "      <td>64687.5000</td>\n",
       "      <td>2017.840184</td>\n",
       "      <td>4.658579</td>\n",
       "    </tr>\n",
       "    <tr>\n",
       "      <th>std</th>\n",
       "      <td>37347.2012</td>\n",
       "      <td>2.579160</td>\n",
       "      <td>9.880257</td>\n",
       "    </tr>\n",
       "    <tr>\n",
       "      <th>min</th>\n",
       "      <td>1.0000</td>\n",
       "      <td>2014.000000</td>\n",
       "      <td>1.000000</td>\n",
       "    </tr>\n",
       "    <tr>\n",
       "      <th>25%</th>\n",
       "      <td>32344.2500</td>\n",
       "      <td>2016.000000</td>\n",
       "      <td>1.000000</td>\n",
       "    </tr>\n",
       "    <tr>\n",
       "      <th>50%</th>\n",
       "      <td>64687.5000</td>\n",
       "      <td>2018.000000</td>\n",
       "      <td>2.000000</td>\n",
       "    </tr>\n",
       "    <tr>\n",
       "      <th>75%</th>\n",
       "      <td>97030.7500</td>\n",
       "      <td>2020.000000</td>\n",
       "      <td>4.000000</td>\n",
       "    </tr>\n",
       "    <tr>\n",
       "      <th>max</th>\n",
       "      <td>129374.0000</td>\n",
       "      <td>2022.000000</td>\n",
       "      <td>494.000000</td>\n",
       "    </tr>\n",
       "  </tbody>\n",
       "</table>\n",
       "</div>"
      ],
      "text/plain": [
       "               _id    ARREST_YEAR   ARREST_COUNT\n",
       "count  129374.0000  129374.000000  129374.000000\n",
       "mean    64687.5000    2017.840184       4.658579\n",
       "std     37347.2012       2.579160       9.880257\n",
       "min         1.0000    2014.000000       1.000000\n",
       "25%     32344.2500    2016.000000       1.000000\n",
       "50%     64687.5000    2018.000000       2.000000\n",
       "75%     97030.7500    2020.000000       4.000000\n",
       "max    129374.0000    2022.000000     494.000000"
      ]
     },
     "execution_count": 4,
     "metadata": {},
     "output_type": "execute_result"
    }
   ],
   "source": [
    "# Summary of statistics for the DataFrame columns.\n",
    "data.describe()"
   ]
  },
  {
   "cell_type": "code",
   "execution_count": 5,
   "metadata": {},
   "outputs": [
    {
     "name": "stdout",
     "output_type": "stream",
     "text": [
      "the dimension: (129374, 11)\n"
     ]
    }
   ],
   "source": [
    "# Print the number of rows and columns\n",
    "print(\"the dimension:\", data.shape)"
   ]
  },
  {
   "cell_type": "code",
   "execution_count": 6,
   "metadata": {},
   "outputs": [
    {
     "data": {
      "text/plain": [
       "_id                                               1\n",
       "ARREST_YEAR                                    2019\n",
       "DIVISION                                        D14\n",
       "HOOD_158                                         83\n",
       "NEIGHBOURHOOD_158               Dufferin Grove (83)\n",
       "SEX                                          Female\n",
       "AGE_COHORT                                 25 to 34\n",
       "AGE_GROUP                                     Adult\n",
       "CATEGORY             Other Criminal Code Violations\n",
       "SUBTYPE                                       Other\n",
       "ARREST_COUNT                                      1\n",
       "Name: 0, dtype: object"
      ]
     },
     "execution_count": 6,
     "metadata": {},
     "output_type": "execute_result"
    }
   ],
   "source": [
    "# Selects the values of the first row of DataFrame\n",
    "data_values = data.iloc[0]\n",
    "data_values"
   ]
  },
  {
   "cell_type": "code",
   "execution_count": 7,
   "metadata": {},
   "outputs": [
    {
     "name": "stdout",
     "output_type": "stream",
     "text": [
      "Unique count of column 'DIVISION': 17\n",
      "Unique count of column 'HOOD_158': 159\n",
      "Unique count of column 'NEIGHBOURHOOD_158': 159\n",
      "Unique count of column 'SEX': 3\n",
      "Unique count of column 'AGE_COHORT': 8\n",
      "Unique count of column 'AGE_GROUP': 3\n",
      "Unique count of column 'CATEGORY': 7\n",
      "Unique count of column 'SUBTYPE': 17\n"
     ]
    }
   ],
   "source": [
    "# Print unique values for categorical values\n",
    "categorical_cols = data.select_dtypes(include=['object']).columns\n",
    "for col in categorical_cols:\n",
    "    unique_count = data[col].nunique()\n",
    "    print(\"Unique count of column '{}': {}\".format(col, unique_count))"
   ]
  },
  {
   "cell_type": "markdown",
   "metadata": {},
   "source": [
    "###### We can observe that this dataset is aggregated; thus, minor adjustments will be necessary."
   ]
  },
  {
   "cell_type": "code",
   "execution_count": 8,
   "metadata": {},
   "outputs": [
    {
     "data": {
      "text/plain": [
       "ARREST_YEAR\n",
       "2014    15484\n",
       "2015    15138\n",
       "2016    15609\n",
       "2017    15350\n",
       "2018    14620\n",
       "2019    13658\n",
       "2020    12782\n",
       "2021    12912\n",
       "2022    13821\n",
       "Name: count, dtype: int64"
      ]
     },
     "execution_count": 8,
     "metadata": {},
     "output_type": "execute_result"
    }
   ],
   "source": [
    "# Show unique values of the 'ARREST_YEAR' column\n",
    "data['ARREST_YEAR'].value_counts().sort_index()"
   ]
  },
  {
   "cell_type": "markdown",
   "metadata": {},
   "source": [
    "# Data Cleaning and Transformation"
   ]
  },
  {
   "cell_type": "code",
   "execution_count": 9,
   "metadata": {},
   "outputs": [
    {
     "data": {
      "text/html": [
       "<div>\n",
       "<style scoped>\n",
       "    .dataframe tbody tr th:only-of-type {\n",
       "        vertical-align: middle;\n",
       "    }\n",
       "\n",
       "    .dataframe tbody tr th {\n",
       "        vertical-align: top;\n",
       "    }\n",
       "\n",
       "    .dataframe thead th {\n",
       "        text-align: right;\n",
       "    }\n",
       "</style>\n",
       "<table border=\"1\" class=\"dataframe\">\n",
       "  <thead>\n",
       "    <tr style=\"text-align: right;\">\n",
       "      <th></th>\n",
       "      <th>Null Count</th>\n",
       "      <th>Null Percentage</th>\n",
       "    </tr>\n",
       "  </thead>\n",
       "  <tbody>\n",
       "    <tr>\n",
       "      <th>_id</th>\n",
       "      <td>0</td>\n",
       "      <td>0.0</td>\n",
       "    </tr>\n",
       "    <tr>\n",
       "      <th>ARREST_YEAR</th>\n",
       "      <td>0</td>\n",
       "      <td>0.0</td>\n",
       "    </tr>\n",
       "    <tr>\n",
       "      <th>DIVISION</th>\n",
       "      <td>0</td>\n",
       "      <td>0.0</td>\n",
       "    </tr>\n",
       "    <tr>\n",
       "      <th>HOOD_158</th>\n",
       "      <td>0</td>\n",
       "      <td>0.0</td>\n",
       "    </tr>\n",
       "    <tr>\n",
       "      <th>NEIGHBOURHOOD_158</th>\n",
       "      <td>0</td>\n",
       "      <td>0.0</td>\n",
       "    </tr>\n",
       "    <tr>\n",
       "      <th>SEX</th>\n",
       "      <td>0</td>\n",
       "      <td>0.0</td>\n",
       "    </tr>\n",
       "    <tr>\n",
       "      <th>AGE_COHORT</th>\n",
       "      <td>0</td>\n",
       "      <td>0.0</td>\n",
       "    </tr>\n",
       "    <tr>\n",
       "      <th>AGE_GROUP</th>\n",
       "      <td>0</td>\n",
       "      <td>0.0</td>\n",
       "    </tr>\n",
       "    <tr>\n",
       "      <th>CATEGORY</th>\n",
       "      <td>0</td>\n",
       "      <td>0.0</td>\n",
       "    </tr>\n",
       "    <tr>\n",
       "      <th>SUBTYPE</th>\n",
       "      <td>0</td>\n",
       "      <td>0.0</td>\n",
       "    </tr>\n",
       "    <tr>\n",
       "      <th>ARREST_COUNT</th>\n",
       "      <td>0</td>\n",
       "      <td>0.0</td>\n",
       "    </tr>\n",
       "  </tbody>\n",
       "</table>\n",
       "</div>"
      ],
      "text/plain": [
       "                   Null Count  Null Percentage\n",
       "_id                         0              0.0\n",
       "ARREST_YEAR                 0              0.0\n",
       "DIVISION                    0              0.0\n",
       "HOOD_158                    0              0.0\n",
       "NEIGHBOURHOOD_158           0              0.0\n",
       "SEX                         0              0.0\n",
       "AGE_COHORT                  0              0.0\n",
       "AGE_GROUP                   0              0.0\n",
       "CATEGORY                    0              0.0\n",
       "SUBTYPE                     0              0.0\n",
       "ARREST_COUNT                0              0.0"
      ]
     },
     "execution_count": 9,
     "metadata": {},
     "output_type": "execute_result"
    }
   ],
   "source": [
    "# Get count and percentage of Null Values\n",
    "\n",
    "data1 = data.copy()\n",
    "\n",
    "data_null_count = data1.isnull().sum()\n",
    "data_null_percentage = (data1.isnull().sum() / data1.shape[0]) * 100\n",
    "null_values = pd.DataFrame({\n",
    "    'Null Count': data_null_count,\n",
    "    'Null Percentage': data_null_percentage\n",
    "})\n",
    "null_values"
   ]
  },
  {
   "cell_type": "markdown",
   "metadata": {},
   "source": [
    "###### Dataset is allready fairly clean. \n"
   ]
  },
  {
   "cell_type": "code",
   "execution_count": 12,
   "metadata": {},
   "outputs": [],
   "source": [
    "# Save new DataFrame to an Excel file\n",
    "data1.to_excel('../Data/TOR_arrested.xlsx', index=False) "
   ]
  }
 ],
 "metadata": {
  "kernelspec": {
   "display_name": "Python 3",
   "language": "python",
   "name": "python3"
  },
  "language_info": {
   "codemirror_mode": {
    "name": "ipython",
    "version": 3
   },
   "file_extension": ".py",
   "mimetype": "text/x-python",
   "name": "python",
   "nbconvert_exporter": "python",
   "pygments_lexer": "ipython3",
   "version": "3.11.9"
  }
 },
 "nbformat": 4,
 "nbformat_minor": 2
}
