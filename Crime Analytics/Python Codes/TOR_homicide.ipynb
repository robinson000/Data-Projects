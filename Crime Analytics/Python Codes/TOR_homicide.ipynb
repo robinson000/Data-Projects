{
 "cells": [
  {
   "cell_type": "markdown",
   "metadata": {},
   "source": [
    "# Data Collection"
   ]
  },
  {
   "cell_type": "code",
   "execution_count": 1,
   "metadata": {},
   "outputs": [
    {
     "name": "stdout",
     "output_type": "stream",
     "text": [
      "Data retrieved successfully.\n"
     ]
    }
   ],
   "source": [
    "# Retreive the Homicide Dataset from Toronto Open Data API\n",
    "\n",
    "import requests\n",
    "\n",
    "base_url = \"https://ckan0.cf.opendata.inter.prod-toronto.ca\"\n",
    "\n",
    "# Datasets are called \"packages\". Each package can contain many \"resources\"\n",
    "url = base_url + \"/api/3/action/package_show\"\n",
    "params = { \"id\": \"police-annual-statistical-report-homicide\"}\n",
    "package = requests.get(url, params = params).json()\n",
    "\n",
    "\n",
    "# To get resource data:\n",
    "for idx, resource in enumerate(package[\"result\"][\"resources\"]):\n",
    "\n",
    "    # For datastore_active resources:\n",
    "    if resource[\"datastore_active\"]:\n",
    "\n",
    "        # To get all records in CSV format:\n",
    "        url = base_url + \"/datastore/dump/\" + resource[\"id\"]\n",
    "        try:\n",
    "            resource_dump_data = requests.get(url).text\n",
    "            # Success message\n",
    "            print(\"Data retrieved successfully.\")\n",
    "        except requests.exceptions.RequestException as e:\n",
    "            # Error message\n",
    "            print(f\"Error retrieving data: {e}\")        "
   ]
  },
  {
   "cell_type": "code",
   "execution_count": 2,
   "metadata": {},
   "outputs": [
    {
     "data": {
      "text/html": [
       "<div>\n",
       "<style scoped>\n",
       "    .dataframe tbody tr th:only-of-type {\n",
       "        vertical-align: middle;\n",
       "    }\n",
       "\n",
       "    .dataframe tbody tr th {\n",
       "        vertical-align: top;\n",
       "    }\n",
       "\n",
       "    .dataframe thead th {\n",
       "        text-align: right;\n",
       "    }\n",
       "</style>\n",
       "<table border=\"1\" class=\"dataframe\">\n",
       "  <thead>\n",
       "    <tr style=\"text-align: right;\">\n",
       "      <th></th>\n",
       "      <th>_id</th>\n",
       "      <th>EVENT_UNIQUE_ID</th>\n",
       "      <th>OCC_DATE</th>\n",
       "      <th>OCC_YEAR</th>\n",
       "      <th>OCC_MONTH</th>\n",
       "      <th>OCC_DAY</th>\n",
       "      <th>OCC_DOW</th>\n",
       "      <th>OCC_DOY</th>\n",
       "      <th>DIVISION</th>\n",
       "      <th>HOMICIDE_TYPE</th>\n",
       "      <th>HOOD_158</th>\n",
       "      <th>NEIGHBOURHOOD_158</th>\n",
       "      <th>HOOD_140</th>\n",
       "      <th>NEIGHBOURHOOD_140</th>\n",
       "      <th>geometry</th>\n",
       "    </tr>\n",
       "  </thead>\n",
       "  <tbody>\n",
       "    <tr>\n",
       "      <th>0</th>\n",
       "      <td>1</td>\n",
       "      <td>GO-2004111878</td>\n",
       "      <td>1073106000000</td>\n",
       "      <td>2004</td>\n",
       "      <td>January</td>\n",
       "      <td>3</td>\n",
       "      <td>Saturday</td>\n",
       "      <td>3</td>\n",
       "      <td>D53</td>\n",
       "      <td>Other</td>\n",
       "      <td>98</td>\n",
       "      <td>Rosedale-Moore Park</td>\n",
       "      <td>98</td>\n",
       "      <td>Rosedale-Moore Park (98)</td>\n",
       "      <td>{\"type\": \"Point\", \"coordinates\": [-79.39282836...</td>\n",
       "    </tr>\n",
       "    <tr>\n",
       "      <th>1</th>\n",
       "      <td>2</td>\n",
       "      <td>GO-2004125755</td>\n",
       "      <td>1073538000000</td>\n",
       "      <td>2004</td>\n",
       "      <td>January</td>\n",
       "      <td>8</td>\n",
       "      <td>Thursday</td>\n",
       "      <td>8</td>\n",
       "      <td>D42</td>\n",
       "      <td>Shooting</td>\n",
       "      <td>142</td>\n",
       "      <td>Woburn North</td>\n",
       "      <td>137</td>\n",
       "      <td>Woburn (137)</td>\n",
       "      <td>{\"type\": \"Point\", \"coordinates\": [-79.23385202...</td>\n",
       "    </tr>\n",
       "    <tr>\n",
       "      <th>2</th>\n",
       "      <td>3</td>\n",
       "      <td>GO-2004136086</td>\n",
       "      <td>1073538000000</td>\n",
       "      <td>2004</td>\n",
       "      <td>January</td>\n",
       "      <td>8</td>\n",
       "      <td>Thursday</td>\n",
       "      <td>8</td>\n",
       "      <td>D42</td>\n",
       "      <td>Shooting</td>\n",
       "      <td>146</td>\n",
       "      <td>Malvern East</td>\n",
       "      <td>132</td>\n",
       "      <td>Malvern (132)</td>\n",
       "      <td>{\"type\": \"Point\", \"coordinates\": [-79.20557418...</td>\n",
       "    </tr>\n",
       "    <tr>\n",
       "      <th>3</th>\n",
       "      <td>4</td>\n",
       "      <td>GO-2004148623</td>\n",
       "      <td>1075006800000</td>\n",
       "      <td>2004</td>\n",
       "      <td>January</td>\n",
       "      <td>25</td>\n",
       "      <td>Sunday</td>\n",
       "      <td>25</td>\n",
       "      <td>D13</td>\n",
       "      <td>Shooting</td>\n",
       "      <td>171</td>\n",
       "      <td>Junction-Wallace Emerson</td>\n",
       "      <td>93</td>\n",
       "      <td>Dovercourt-Wallace Emerson-Junction (93)</td>\n",
       "      <td>{\"type\": \"Point\", \"coordinates\": [-79.43438732...</td>\n",
       "    </tr>\n",
       "    <tr>\n",
       "      <th>4</th>\n",
       "      <td>5</td>\n",
       "      <td>GO-2004148619</td>\n",
       "      <td>1075006800000</td>\n",
       "      <td>2004</td>\n",
       "      <td>January</td>\n",
       "      <td>25</td>\n",
       "      <td>Sunday</td>\n",
       "      <td>25</td>\n",
       "      <td>D42</td>\n",
       "      <td>Shooting</td>\n",
       "      <td>144</td>\n",
       "      <td>Morningside Heights</td>\n",
       "      <td>131</td>\n",
       "      <td>Rouge (131)</td>\n",
       "      <td>{\"type\": \"Point\", \"coordinates\": [-79.20495811...</td>\n",
       "    </tr>\n",
       "  </tbody>\n",
       "</table>\n",
       "</div>"
      ],
      "text/plain": [
       "   _id EVENT_UNIQUE_ID       OCC_DATE  OCC_YEAR OCC_MONTH  OCC_DAY   OCC_DOW  \\\n",
       "0    1   GO-2004111878  1073106000000      2004   January        3  Saturday   \n",
       "1    2   GO-2004125755  1073538000000      2004   January        8  Thursday   \n",
       "2    3   GO-2004136086  1073538000000      2004   January        8  Thursday   \n",
       "3    4   GO-2004148623  1075006800000      2004   January       25    Sunday   \n",
       "4    5   GO-2004148619  1075006800000      2004   January       25    Sunday   \n",
       "\n",
       "   OCC_DOY DIVISION HOMICIDE_TYPE HOOD_158         NEIGHBOURHOOD_158 HOOD_140  \\\n",
       "0        3      D53         Other       98       Rosedale-Moore Park       98   \n",
       "1        8      D42      Shooting      142              Woburn North      137   \n",
       "2        8      D42      Shooting      146              Malvern East      132   \n",
       "3       25      D13      Shooting      171  Junction-Wallace Emerson       93   \n",
       "4       25      D42      Shooting      144       Morningside Heights      131   \n",
       "\n",
       "                          NEIGHBOURHOOD_140  \\\n",
       "0                  Rosedale-Moore Park (98)   \n",
       "1                              Woburn (137)   \n",
       "2                             Malvern (132)   \n",
       "3  Dovercourt-Wallace Emerson-Junction (93)   \n",
       "4                               Rouge (131)   \n",
       "\n",
       "                                            geometry  \n",
       "0  {\"type\": \"Point\", \"coordinates\": [-79.39282836...  \n",
       "1  {\"type\": \"Point\", \"coordinates\": [-79.23385202...  \n",
       "2  {\"type\": \"Point\", \"coordinates\": [-79.20557418...  \n",
       "3  {\"type\": \"Point\", \"coordinates\": [-79.43438732...  \n",
       "4  {\"type\": \"Point\", \"coordinates\": [-79.20495811...  "
      ]
     },
     "execution_count": 2,
     "metadata": {},
     "output_type": "execute_result"
    }
   ],
   "source": [
    "# Create pandas Dataframe\n",
    "\n",
    "import pandas as pd\n",
    "from io import StringIO\n",
    "\n",
    "# read csv file into pandas dataframe\n",
    "csv_file = StringIO(resource_dump_data)\n",
    "data = pd.read_csv(csv_file)\n",
    "\n",
    "# Print the DataFrame\n",
    "data.head()"
   ]
  },
  {
   "cell_type": "markdown",
   "metadata": {},
   "source": [
    "# Exploratory data analysis (EDA)"
   ]
  },
  {
   "cell_type": "code",
   "execution_count": 3,
   "metadata": {},
   "outputs": [
    {
     "name": "stdout",
     "output_type": "stream",
     "text": [
      "<class 'pandas.core.frame.DataFrame'>\n",
      "RangeIndex: 1414 entries, 0 to 1413\n",
      "Data columns (total 15 columns):\n",
      " #   Column             Non-Null Count  Dtype \n",
      "---  ------             --------------  ----- \n",
      " 0   _id                1414 non-null   int64 \n",
      " 1   EVENT_UNIQUE_ID    1414 non-null   object\n",
      " 2   OCC_DATE           1414 non-null   int64 \n",
      " 3   OCC_YEAR           1414 non-null   int64 \n",
      " 4   OCC_MONTH          1414 non-null   object\n",
      " 5   OCC_DAY            1414 non-null   int64 \n",
      " 6   OCC_DOW            1414 non-null   object\n",
      " 7   OCC_DOY            1414 non-null   int64 \n",
      " 8   DIVISION           1414 non-null   object\n",
      " 9   HOMICIDE_TYPE      1414 non-null   object\n",
      " 10  HOOD_158           1414 non-null   object\n",
      " 11  NEIGHBOURHOOD_158  1414 non-null   object\n",
      " 12  HOOD_140           1414 non-null   object\n",
      " 13  NEIGHBOURHOOD_140  1414 non-null   object\n",
      " 14  geometry           1414 non-null   object\n",
      "dtypes: int64(5), object(10)\n",
      "memory usage: 165.8+ KB\n"
     ]
    }
   ],
   "source": [
    "# Retrieve list of columns, their data types, and information about missing values.\n",
    "data.info(verbose=True)"
   ]
  },
  {
   "cell_type": "code",
   "execution_count": 4,
   "metadata": {},
   "outputs": [
    {
     "data": {
      "text/html": [
       "<div>\n",
       "<style scoped>\n",
       "    .dataframe tbody tr th:only-of-type {\n",
       "        vertical-align: middle;\n",
       "    }\n",
       "\n",
       "    .dataframe tbody tr th {\n",
       "        vertical-align: top;\n",
       "    }\n",
       "\n",
       "    .dataframe thead th {\n",
       "        text-align: right;\n",
       "    }\n",
       "</style>\n",
       "<table border=\"1\" class=\"dataframe\">\n",
       "  <thead>\n",
       "    <tr style=\"text-align: right;\">\n",
       "      <th></th>\n",
       "      <th>_id</th>\n",
       "      <th>OCC_DATE</th>\n",
       "      <th>OCC_YEAR</th>\n",
       "      <th>OCC_DAY</th>\n",
       "      <th>OCC_DOY</th>\n",
       "    </tr>\n",
       "  </thead>\n",
       "  <tbody>\n",
       "    <tr>\n",
       "      <th>count</th>\n",
       "      <td>1414.000000</td>\n",
       "      <td>1.414000e+03</td>\n",
       "      <td>1414.000000</td>\n",
       "      <td>1414.000000</td>\n",
       "      <td>1414.000000</td>\n",
       "    </tr>\n",
       "    <tr>\n",
       "      <th>mean</th>\n",
       "      <td>707.500000</td>\n",
       "      <td>1.399786e+12</td>\n",
       "      <td>2013.845120</td>\n",
       "      <td>15.615276</td>\n",
       "      <td>187.740453</td>\n",
       "    </tr>\n",
       "    <tr>\n",
       "      <th>std</th>\n",
       "      <td>408.330952</td>\n",
       "      <td>1.892447e+11</td>\n",
       "      <td>5.999474</td>\n",
       "      <td>8.798552</td>\n",
       "      <td>103.971605</td>\n",
       "    </tr>\n",
       "    <tr>\n",
       "      <th>min</th>\n",
       "      <td>1.000000</td>\n",
       "      <td>1.073106e+12</td>\n",
       "      <td>2004.000000</td>\n",
       "      <td>1.000000</td>\n",
       "      <td>1.000000</td>\n",
       "    </tr>\n",
       "    <tr>\n",
       "      <th>25%</th>\n",
       "      <td>354.250000</td>\n",
       "      <td>1.222423e+12</td>\n",
       "      <td>2008.000000</td>\n",
       "      <td>8.000000</td>\n",
       "      <td>99.000000</td>\n",
       "    </tr>\n",
       "    <tr>\n",
       "      <th>50%</th>\n",
       "      <td>707.500000</td>\n",
       "      <td>1.412568e+12</td>\n",
       "      <td>2014.000000</td>\n",
       "      <td>16.000000</td>\n",
       "      <td>195.000000</td>\n",
       "    </tr>\n",
       "    <tr>\n",
       "      <th>75%</th>\n",
       "      <td>1060.750000</td>\n",
       "      <td>1.567548e+12</td>\n",
       "      <td>2019.000000</td>\n",
       "      <td>23.000000</td>\n",
       "      <td>272.000000</td>\n",
       "    </tr>\n",
       "    <tr>\n",
       "      <th>max</th>\n",
       "      <td>1414.000000</td>\n",
       "      <td>1.711685e+12</td>\n",
       "      <td>2024.000000</td>\n",
       "      <td>31.000000</td>\n",
       "      <td>366.000000</td>\n",
       "    </tr>\n",
       "  </tbody>\n",
       "</table>\n",
       "</div>"
      ],
      "text/plain": [
       "               _id      OCC_DATE     OCC_YEAR      OCC_DAY      OCC_DOY\n",
       "count  1414.000000  1.414000e+03  1414.000000  1414.000000  1414.000000\n",
       "mean    707.500000  1.399786e+12  2013.845120    15.615276   187.740453\n",
       "std     408.330952  1.892447e+11     5.999474     8.798552   103.971605\n",
       "min       1.000000  1.073106e+12  2004.000000     1.000000     1.000000\n",
       "25%     354.250000  1.222423e+12  2008.000000     8.000000    99.000000\n",
       "50%     707.500000  1.412568e+12  2014.000000    16.000000   195.000000\n",
       "75%    1060.750000  1.567548e+12  2019.000000    23.000000   272.000000\n",
       "max    1414.000000  1.711685e+12  2024.000000    31.000000   366.000000"
      ]
     },
     "execution_count": 4,
     "metadata": {},
     "output_type": "execute_result"
    }
   ],
   "source": [
    "# Summary of statistics for the DataFrame columns.\n",
    "data.describe()"
   ]
  },
  {
   "cell_type": "code",
   "execution_count": 5,
   "metadata": {},
   "outputs": [
    {
     "name": "stdout",
     "output_type": "stream",
     "text": [
      "the dimension: (1414, 15)\n"
     ]
    }
   ],
   "source": [
    "# Print the number of rows and columns\n",
    "print(\"the dimension:\", data.shape)"
   ]
  },
  {
   "cell_type": "code",
   "execution_count": 6,
   "metadata": {},
   "outputs": [
    {
     "data": {
      "text/plain": [
       "_id                                                                  1\n",
       "EVENT_UNIQUE_ID                                          GO-2004111878\n",
       "OCC_DATE                                                 1073106000000\n",
       "OCC_YEAR                                                          2004\n",
       "OCC_MONTH                                                      January\n",
       "OCC_DAY                                                              3\n",
       "OCC_DOW                                                       Saturday\n",
       "OCC_DOY                                                              3\n",
       "DIVISION                                                           D53\n",
       "HOMICIDE_TYPE                                                    Other\n",
       "HOOD_158                                                            98\n",
       "NEIGHBOURHOOD_158                                  Rosedale-Moore Park\n",
       "HOOD_140                                                            98\n",
       "NEIGHBOURHOOD_140                             Rosedale-Moore Park (98)\n",
       "geometry             {\"type\": \"Point\", \"coordinates\": [-79.39282836...\n",
       "Name: 0, dtype: object"
      ]
     },
     "execution_count": 6,
     "metadata": {},
     "output_type": "execute_result"
    }
   ],
   "source": [
    "# Selects the values of the first row of DataFrame\n",
    "data_values = data.iloc[0]\n",
    "data_values"
   ]
  },
  {
   "cell_type": "code",
   "execution_count": 7,
   "metadata": {},
   "outputs": [
    {
     "name": "stdout",
     "output_type": "stream",
     "text": [
      "Unique count of column 'EVENT_UNIQUE_ID': 1322\n",
      "Unique count of column 'OCC_MONTH': 12\n",
      "Unique count of column 'OCC_DOW': 7\n",
      "Unique count of column 'DIVISION': 17\n",
      "Unique count of column 'HOMICIDE_TYPE': 3\n",
      "Unique count of column 'HOOD_158': 153\n",
      "Unique count of column 'NEIGHBOURHOOD_158': 153\n",
      "Unique count of column 'HOOD_140': 136\n",
      "Unique count of column 'NEIGHBOURHOOD_140': 136\n",
      "Unique count of column 'geometry': 1096\n"
     ]
    }
   ],
   "source": [
    "# Print unique values for categorical values\n",
    "categorical_cols = data.select_dtypes(include=['object']).columns\n",
    "for col in categorical_cols:\n",
    "    unique_count = data[col].nunique()\n",
    "    print(\"Unique count of column '{}': {}\".format(col, unique_count))"
   ]
  },
  {
   "cell_type": "code",
   "execution_count": 8,
   "metadata": {},
   "outputs": [
    {
     "data": {
      "image/png": "[encoded data removed]",
      "text/plain": [
       "<Figure size 1000x800 with 2 Axes>"
      ]
     },
     "metadata": {},
     "output_type": "display_data"
    }
   ],
   "source": [
    "# Visualize corelation\n",
    "\n",
    "import seaborn as sns\n",
    "import matplotlib.pyplot as plt\n",
    "\n",
    "data_correlation = data.corr(numeric_only=True)\n",
    "\n",
    "# Plot correlation matrix with heatmap\n",
    "plt.figure(figsize=(10, 8))\n",
    "sns.heatmap(data_correlation, annot=True, cmap='coolwarm', fmt=\".2f\")\n",
    "plt.title('Correlation Matrix')\n",
    "plt.show()\n"
   ]
  },
  {
   "cell_type": "code",
   "execution_count": 9,
   "metadata": {},
   "outputs": [
    {
     "data": {
      "text/plain": [
       "OCC_YEAR\n",
       "2004    64\n",
       "2005    80\n",
       "2006    70\n",
       "2007    86\n",
       "2008    70\n",
       "2009    62\n",
       "2010    65\n",
       "2011    51\n",
       "2012    57\n",
       "2013    57\n",
       "2014    58\n",
       "2015    59\n",
       "2016    75\n",
       "2017    65\n",
       "2018    98\n",
       "2019    79\n",
       "2020    71\n",
       "2021    85\n",
       "2022    71\n",
       "2023    73\n",
       "2024    18\n",
       "Name: count, dtype: int64"
      ]
     },
     "execution_count": 9,
     "metadata": {},
     "output_type": "execute_result"
    }
   ],
   "source": [
    "# Show unique values of the 'OCC_YEAR' column\n",
    "data['OCC_YEAR'].value_counts().sort_index()"
   ]
  },
  {
   "cell_type": "markdown",
   "metadata": {},
   "source": [
    "# Data Cleaning and Transformation"
   ]
  },
  {
   "cell_type": "code",
   "execution_count": 11,
   "metadata": {},
   "outputs": [
    {
     "data": {
      "text/plain": [
       "OCC_YEAR\n",
       "2014    58\n",
       "2015    59\n",
       "2016    75\n",
       "2017    65\n",
       "2018    98\n",
       "2019    79\n",
       "2020    71\n",
       "2021    85\n",
       "2022    71\n",
       "2023    73\n",
       "2024    18\n",
       "Name: count, dtype: int64"
      ]
     },
     "execution_count": 11,
     "metadata": {},
     "output_type": "execute_result"
    }
   ],
   "source": [
    "# Filter data for data after 2013\n",
    "data1 = data[data['OCC_YEAR'] > 2013]\n",
    "data1['OCC_YEAR'].value_counts().sort_index()"
   ]
  },
  {
   "cell_type": "code",
   "execution_count": 12,
   "metadata": {},
   "outputs": [
    {
     "data": {
      "text/html": [
       "<div>\n",
       "<style scoped>\n",
       "    .dataframe tbody tr th:only-of-type {\n",
       "        vertical-align: middle;\n",
       "    }\n",
       "\n",
       "    .dataframe tbody tr th {\n",
       "        vertical-align: top;\n",
       "    }\n",
       "\n",
       "    .dataframe thead th {\n",
       "        text-align: right;\n",
       "    }\n",
       "</style>\n",
       "<table border=\"1\" class=\"dataframe\">\n",
       "  <thead>\n",
       "    <tr style=\"text-align: right;\">\n",
       "      <th></th>\n",
       "      <th>Null Count</th>\n",
       "      <th>Null Percentage</th>\n",
       "    </tr>\n",
       "  </thead>\n",
       "  <tbody>\n",
       "    <tr>\n",
       "      <th>_id</th>\n",
       "      <td>0</td>\n",
       "      <td>0.0</td>\n",
       "    </tr>\n",
       "    <tr>\n",
       "      <th>EVENT_UNIQUE_ID</th>\n",
       "      <td>0</td>\n",
       "      <td>0.0</td>\n",
       "    </tr>\n",
       "    <tr>\n",
       "      <th>OCC_DATE</th>\n",
       "      <td>0</td>\n",
       "      <td>0.0</td>\n",
       "    </tr>\n",
       "    <tr>\n",
       "      <th>OCC_YEAR</th>\n",
       "      <td>0</td>\n",
       "      <td>0.0</td>\n",
       "    </tr>\n",
       "    <tr>\n",
       "      <th>OCC_MONTH</th>\n",
       "      <td>0</td>\n",
       "      <td>0.0</td>\n",
       "    </tr>\n",
       "    <tr>\n",
       "      <th>OCC_DAY</th>\n",
       "      <td>0</td>\n",
       "      <td>0.0</td>\n",
       "    </tr>\n",
       "    <tr>\n",
       "      <th>OCC_DOW</th>\n",
       "      <td>0</td>\n",
       "      <td>0.0</td>\n",
       "    </tr>\n",
       "    <tr>\n",
       "      <th>OCC_DOY</th>\n",
       "      <td>0</td>\n",
       "      <td>0.0</td>\n",
       "    </tr>\n",
       "    <tr>\n",
       "      <th>DIVISION</th>\n",
       "      <td>0</td>\n",
       "      <td>0.0</td>\n",
       "    </tr>\n",
       "    <tr>\n",
       "      <th>HOMICIDE_TYPE</th>\n",
       "      <td>0</td>\n",
       "      <td>0.0</td>\n",
       "    </tr>\n",
       "    <tr>\n",
       "      <th>HOOD_158</th>\n",
       "      <td>0</td>\n",
       "      <td>0.0</td>\n",
       "    </tr>\n",
       "    <tr>\n",
       "      <th>NEIGHBOURHOOD_158</th>\n",
       "      <td>0</td>\n",
       "      <td>0.0</td>\n",
       "    </tr>\n",
       "    <tr>\n",
       "      <th>HOOD_140</th>\n",
       "      <td>0</td>\n",
       "      <td>0.0</td>\n",
       "    </tr>\n",
       "    <tr>\n",
       "      <th>NEIGHBOURHOOD_140</th>\n",
       "      <td>0</td>\n",
       "      <td>0.0</td>\n",
       "    </tr>\n",
       "    <tr>\n",
       "      <th>geometry</th>\n",
       "      <td>0</td>\n",
       "      <td>0.0</td>\n",
       "    </tr>\n",
       "  </tbody>\n",
       "</table>\n",
       "</div>"
      ],
      "text/plain": [
       "                   Null Count  Null Percentage\n",
       "_id                         0              0.0\n",
       "EVENT_UNIQUE_ID             0              0.0\n",
       "OCC_DATE                    0              0.0\n",
       "OCC_YEAR                    0              0.0\n",
       "OCC_MONTH                   0              0.0\n",
       "OCC_DAY                     0              0.0\n",
       "OCC_DOW                     0              0.0\n",
       "OCC_DOY                     0              0.0\n",
       "DIVISION                    0              0.0\n",
       "HOMICIDE_TYPE               0              0.0\n",
       "HOOD_158                    0              0.0\n",
       "NEIGHBOURHOOD_158           0              0.0\n",
       "HOOD_140                    0              0.0\n",
       "NEIGHBOURHOOD_140           0              0.0\n",
       "geometry                    0              0.0"
      ]
     },
     "execution_count": 12,
     "metadata": {},
     "output_type": "execute_result"
    }
   ],
   "source": [
    "# Get count and percentage of Null Values\n",
    "\n",
    "data_null_count = data1.isnull().sum()\n",
    "data_null_percentage = (data1.isnull().sum() / data1.shape[0]) * 100\n",
    "null_values = pd.DataFrame({\n",
    "    'Null Count': data_null_count,\n",
    "    'Null Percentage': data_null_percentage\n",
    "})\n",
    "null_values"
   ]
  },
  {
   "cell_type": "code",
   "execution_count": 13,
   "metadata": {},
   "outputs": [
    {
     "name": "stderr",
     "output_type": "stream",
     "text": [
      "C:\\Users\\Robins\\AppData\\Local\\Temp\\ipykernel_8596\\3803075061.py:3: SettingWithCopyWarning: \n",
      "A value is trying to be set on a copy of a slice from a DataFrame.\n",
      "Try using .loc[row_indexer,col_indexer] = value instead\n",
      "\n",
      "See the caveats in the documentation: https://pandas.pydata.org/pandas-docs/stable/user_guide/indexing.html#returning-a-view-versus-a-copy\n",
      "  data1['OCC_FULL_DATE'] = data1.apply(lambda row: pd.to_datetime(f\"{int(row['OCC_YEAR'])}-{int(row['OCC_DOY']):03d}\", format='%Y-%j').date(), axis=1)\n"
     ]
    }
   ],
   "source": [
    "# Create a single column filled with dates by using the 'OCC_YEAR' and 'OCC_DOY' columns.\n",
    "\n",
    "data1['OCC_FULL_DATE'] = data1.apply(lambda row: pd.to_datetime(f\"{int(row['OCC_YEAR'])}-{int(row['OCC_DOY']):03d}\", format='%Y-%j').date(), axis=1)\n"
   ]
  },
  {
   "cell_type": "code",
   "execution_count": 51,
   "metadata": {},
   "outputs": [],
   "source": [
    "# Drop the unnecessary columns\n",
    "data2 = data1.drop(columns=[ 'OCC_DATE', 'HOOD_140', 'NEIGHBOURHOOD_140'], inplace=False)\n"
   ]
  },
  {
   "cell_type": "code",
   "execution_count": 52,
   "metadata": {},
   "outputs": [],
   "source": [
    "# Save the DataFrame to an Excel file for use in Power BI for visualization\n",
    "data2.to_excel('../Data/TOR_homicide.xlsx', index=False) "
   ]
  }
 ],
 "metadata": {
  "kernelspec": {
   "display_name": "Python 3",
   "language": "python",
   "name": "python3"
  },
  "language_info": {
   "codemirror_mode": {
    "name": "ipython",
    "version": 3
   },
   "file_extension": ".py",
   "mimetype": "text/x-python",
   "name": "python",
   "nbconvert_exporter": "python",
   "pygments_lexer": "ipython3",
   "version": "3.11.9"
  }
 },
 "nbformat": 4,
 "nbformat_minor": 2
}
